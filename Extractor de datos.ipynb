{
 "cells": [
  {
   "cell_type": "markdown",
   "id": "506be446",
   "metadata": {},
   "source": [
    "Este programa está hecho para sacar los datos de Alphavantage"
   ]
  },
  {
   "cell_type": "code",
   "execution_count": 3,
   "id": "c9c7248a",
   "metadata": {},
   "outputs": [
    {
     "name": "stdout",
     "output_type": "stream",
     "text": [
      "Ciclo  1\n",
      "https://www.alphavantage.co/query?function=TIME_SERIES_INTRADAY&symbol=NVDA&interval=60min&month=2024-10&outputsize=full&apikey=RFER9YLX4X9XH3RQ&datatype=csv\n",
      "Datos obtenidos para 2024-10. Total de puntos: 368\n",
      "Ciclo  2\n",
      "https://www.alphavantage.co/query?function=TIME_SERIES_INTRADAY&symbol=NVDA&interval=60min&month=2024-09&outputsize=full&apikey=RFER9YLX4X9XH3RQ&datatype=csv\n",
      "Datos obtenidos para 2024-09. Total de puntos: 688\n",
      "Ciclo  3\n",
      "https://www.alphavantage.co/query?function=TIME_SERIES_INTRADAY&symbol=NVDA&interval=60min&month=2024-08&outputsize=full&apikey=RFER9YLX4X9XH3RQ&datatype=csv\n",
      "Datos obtenidos para 2024-08. Total de puntos: 1040\n",
      "Ciclo  4\n",
      "https://www.alphavantage.co/query?function=TIME_SERIES_INTRADAY&symbol=NVDA&interval=60min&month=2024-07&outputsize=full&apikey=RFER9YLX4X9XH3RQ&datatype=csv\n",
      "Datos obtenidos para 2024-07. Total de puntos: 1389\n",
      "Ciclo  5\n",
      "https://www.alphavantage.co/query?function=TIME_SERIES_INTRADAY&symbol=NVDA&interval=60min&month=2024-06&outputsize=full&apikey=RFER9YLX4X9XH3RQ&datatype=csv\n",
      "Datos obtenidos para 2024-06. Total de puntos: 1693\n",
      "Ciclo  6\n",
      "https://www.alphavantage.co/query?function=TIME_SERIES_INTRADAY&symbol=NVDA&interval=60min&month=2024-05&outputsize=full&apikey=RFER9YLX4X9XH3RQ&datatype=csv\n",
      "Datos obtenidos para 2024-05. Total de puntos: 2045\n",
      "Ciclo  7\n",
      "https://www.alphavantage.co/query?function=TIME_SERIES_INTRADAY&symbol=NVDA&interval=60min&month=2024-04&outputsize=full&apikey=RFER9YLX4X9XH3RQ&datatype=csv\n",
      "Datos obtenidos para 2024-04. Total de puntos: 2397\n",
      "Ciclo  8\n",
      "https://www.alphavantage.co/query?function=TIME_SERIES_INTRADAY&symbol=NVDA&interval=60min&month=2024-03&outputsize=full&apikey=RFER9YLX4X9XH3RQ&datatype=csv\n",
      "Datos obtenidos para 2024-03. Total de puntos: 2717\n",
      "Ciclo  9\n",
      "https://www.alphavantage.co/query?function=TIME_SERIES_INTRADAY&symbol=NVDA&interval=60min&month=2024-02&outputsize=full&apikey=RFER9YLX4X9XH3RQ&datatype=csv\n",
      "Datos obtenidos para 2024-02. Total de puntos: 3037\n",
      "Ciclo  10\n",
      "https://www.alphavantage.co/query?function=TIME_SERIES_INTRADAY&symbol=NVDA&interval=60min&month=2024-01&outputsize=full&apikey=RFER9YLX4X9XH3RQ&datatype=csv\n",
      "Datos obtenidos para 2024-01. Total de puntos: 3373\n",
      "Ciclo  11\n",
      "https://www.alphavantage.co/query?function=TIME_SERIES_INTRADAY&symbol=NVDA&interval=60min&month=2023-12&outputsize=full&apikey=RFER9YLX4X9XH3RQ&datatype=csv\n",
      "Datos obtenidos para 2023-12. Total de puntos: 3693\n",
      "Ciclo  12\n",
      "https://www.alphavantage.co/query?function=TIME_SERIES_INTRADAY&symbol=NVDA&interval=60min&month=2023-11&outputsize=full&apikey=RFER9YLX4X9XH3RQ&datatype=csv\n",
      "Datos obtenidos para 2023-11. Total de puntos: 4026\n",
      "Proceso completado. Se han guardado 4026 puntos de datos en NVDA_60min_data_2024.csv\n"
     ]
    }
   ],
   "source": [
    "import requests\n",
    "import time\n",
    "from datetime import datetime, timedelta\n",
    "\n",
    "def get_data(symbol, interval, month):\n",
    "    url = f\"https://www.alphavantage.co/query?function=TIME_SERIES_INTRADAY&symbol={symbol}&interval={interval}&month={month}&outputsize=full&apikey=RFER9YLX4X9XH3RQ&datatype=csv\"\n",
    "    response = requests.get(url)\n",
    "    print(url)\n",
    "    return response.text\n",
    "    \n",
    "    #return \"2024-09-11 19:55:00,222.0800,222.1445,222.0000,222.1445,4144\"\n",
    "    \n",
    "\n",
    "def process_line(line, is_header=False):\n",
    "    fields = line.strip().split(',')\n",
    "    if is_header:\n",
    "        return ','.join(fields)\n",
    "    else:\n",
    "        fields[-1] = str(int(fields[-1].strip('\"')))\n",
    "        return ','.join(fields)\n",
    "\n",
    "symbol = \"NVDA\"\n",
    "interval = \"60min\"\n",
    "#start_date = datetime.now().replace(day=1) - timedelta(days=1)  # Último día del mes pasado\n",
    "year = 2024 # Año de inicio\n",
    "month = 10 # Mes de inicio\n",
    "first_day_next_month = datetime(year, month, 1).replace(month=month % 12 + 1, day=1)\n",
    "# Restar un día para obtener el último día del mes deseado\n",
    "start_date = first_day_next_month - timedelta(days=1)\n",
    "data_points = 0\n",
    "filename = f\"{symbol}_{interval}_data_{year}.csv\" # Nombre del fichero\n",
    "months = 12\n",
    "cicles = 0\n",
    "\n",
    "with open(filename, 'w', newline='') as csvfile:\n",
    "    header_written = False\n",
    "    last_timestamp = None\n",
    "\n",
    "    while cicles < months:\n",
    "        \n",
    "        cicles += 1\n",
    "        print('Ciclo ', cicles)    \n",
    "        \n",
    "        month = start_date.strftime(\"%Y-%m\")\n",
    "        csv_data = get_data(symbol, interval, month)\n",
    "        csv_lines = csv_data.strip().split('\\n')\n",
    "        \n",
    "        if not header_written:\n",
    "            csvfile.write(process_line(csv_lines[0], is_header=True) + '\\n')\n",
    "            header_written = True\n",
    "            csv_lines = csv_lines[1:]  # Skip header in data processing\n",
    "        \n",
    "        new_data_points = 0\n",
    "        for line in csv_lines:\n",
    "            current_timestamp = line.split(',')[0]\n",
    "            if last_timestamp and current_timestamp >= last_timestamp:\n",
    "                continue  # Skip duplicate data\n",
    "            \n",
    "            processed_line = process_line(line)\n",
    "            csvfile.write(processed_line + '\\n')\n",
    "            new_data_points += 1\n",
    "        \n",
    "        if new_data_points == 0:\n",
    "            print(f\"No new data available for {month}. Moving to previous month.\")\n",
    "            start = start_date.replace(day=1) - timedelta(days=1)  # Move to previous month\n",
    "            continue\n",
    "        \n",
    "        data_points += new_data_points\n",
    "        last_timestamp = csv_lines[-1].split(',')[0]  # Update to the oldest timestamp in this batch\n",
    "        \n",
    "        print(f\"Datos obtenidos para {month}. Total de puntos: {data_points}\")\n",
    "\n",
    "        start_date = start_date.replace(day=1) - timedelta(days=1)  # Move to previous month\n",
    "        time.sleep(12)  # Esperar 12 segundos entre solicitudes\n",
    "\n",
    "print(f\"Proceso completado. Se han guardado {data_points} puntos de datos en {filename}\")\n",
    "\n"
   ]
  },
  {
   "cell_type": "code",
   "execution_count": 18,
   "id": "9b876b1c",
   "metadata": {},
   "outputs": [
    {
     "name": "stdout",
     "output_type": "stream",
     "text": [
      "Tue Sep 24 18:17:13 2024       \n",
      "+-----------------------------------------------------------------------------------------+\n",
      "| NVIDIA-SMI 552.44                 Driver Version: 552.44         CUDA Version: 12.4     |\n",
      "|-----------------------------------------+------------------------+----------------------+\n",
      "| GPU  Name                     TCC/WDDM  | Bus-Id          Disp.A | Volatile Uncorr. ECC |\n",
      "| Fan  Temp   Perf          Pwr:Usage/Cap |           Memory-Usage | GPU-Util  Compute M. |\n",
      "|                                         |                        |               MIG M. |\n",
      "|=========================================+========================+======================|\n",
      "|   0  NVIDIA GeForce GTX 850A      WDDM  |   00000000:08:00.0 Off |                  N/A |\n",
      "| N/A    0C    P8             N/A /   32W |       0MiB /   2048MiB |      0%      Default |\n",
      "|                                         |                        |                  N/A |\n",
      "+-----------------------------------------+------------------------+----------------------+\n",
      "                                                                                         \n",
      "+-----------------------------------------------------------------------------------------+\n",
      "| Processes:                                                                              |\n",
      "|  GPU   GI   CI        PID   Type   Process name                              GPU Memory |\n",
      "|        ID   ID                                                               Usage      |\n",
      "|=========================================================================================|\n",
      "|  No running processes found                                                             |\n",
      "+-----------------------------------------------------------------------------------------+\n"
     ]
    }
   ],
   "source": [
    "!nvidia-smi"
   ]
  },
  {
   "cell_type": "code",
   "execution_count": 19,
   "id": "da184038",
   "metadata": {},
   "outputs": [
    {
     "name": "stdout",
     "output_type": "stream",
     "text": [
      "[name: \"/device:CPU:0\"\n",
      "device_type: \"CPU\"\n",
      "memory_limit: 268435456\n",
      "locality {\n",
      "}\n",
      "incarnation: 13439965297162967527\n",
      "xla_global_id: -1\n",
      "]\n"
     ]
    }
   ],
   "source": [
    "from tensorflow.python.client import device_lib\n",
    "\n",
    "# Muestra información sobre los dispositivos disponibles\n",
    "print(device_lib.list_local_devices())\n"
   ]
  },
  {
   "cell_type": "code",
   "execution_count": 17,
   "id": "3e030020",
   "metadata": {},
   "outputs": [
    {
     "name": "stdout",
     "output_type": "stream",
     "text": [
      "GPUs disponibles: []\n"
     ]
    }
   ],
   "source": [
    "import tensorflow as tf\n",
    "print(\"GPUs disponibles:\", tf.config.list_physical_devices('GPU'))"
   ]
  },
  {
   "cell_type": "code",
   "execution_count": 7,
   "id": "2ca5bebf",
   "metadata": {},
   "outputs": [
    {
     "name": "stdout",
     "output_type": "stream",
     "text": [
      "2024-10-31 00:00:00\n"
     ]
    }
   ],
   "source": [
    "#start_date = datetime.now().replace(day=1) - timedelta(days=1)  # Último día del mes pasado\n",
    "year = 2024 # Año de inicio\n",
    "month = 10 # Mes de inicio\n",
    "first_day_next_month = datetime(year, month, 1).replace(month=month % 12 + 1, day=1)\n",
    "# Restar un día para obtener el último día del mes deseado\n",
    "start_date = first_day_next_month - timedelta(days=1)\n",
    "print(start_date)"
   ]
  },
  {
   "cell_type": "code",
   "execution_count": null,
   "id": "6607c09e-27fa-43a4-ab52-a7d314742fa5",
   "metadata": {},
   "outputs": [],
   "source": []
  }
 ],
 "metadata": {
  "kernelspec": {
   "display_name": "Python 3 (ipykernel)",
   "language": "python",
   "name": "python3"
  },
  "language_info": {
   "codemirror_mode": {
    "name": "ipython",
    "version": 3
   },
   "file_extension": ".py",
   "mimetype": "text/x-python",
   "name": "python",
   "nbconvert_exporter": "python",
   "pygments_lexer": "ipython3",
   "version": "3.12.7"
  }
 },
 "nbformat": 4,
 "nbformat_minor": 5
}
